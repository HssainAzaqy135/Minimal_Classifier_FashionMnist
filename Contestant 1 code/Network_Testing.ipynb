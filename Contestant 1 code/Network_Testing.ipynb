{
 "cells": [
  {
   "cell_type": "markdown",
   "id": "2bf3c562-536c-4e34-98b0-b005e7c70ae6",
   "metadata": {},
   "source": [
    "# Model Testing Notebook "
   ]
  },
  {
   "cell_type": "markdown",
   "id": "bb33c38c-a88d-46be-b4d0-50c3bc7c8a77",
   "metadata": {},
   "source": [
    "* Imports"
   ]
  },
  {
   "cell_type": "code",
   "execution_count": 14,
   "id": "fe443291-691e-41de-a367-8f2e30742f36",
   "metadata": {},
   "outputs": [
    {
     "name": "stdout",
     "output_type": "stream",
     "text": [
      "The autoreload extension is already loaded. To reload it, use:\n",
      "  %reload_ext autoreload\n"
     ]
    }
   ],
   "source": [
    "import torch\n",
    "import torch.nn as nn\n",
    "import torch.optim as optim\n",
    "from torchvision import datasets, transforms\n",
    "from torch.utils.data import DataLoader\n",
    "\n",
    "\n",
    "import classiferNN\n",
    "from classiferNN import BasicNN\n",
    "import utils\n",
    "from utils import compute_mean_std\n",
    "%load_ext autoreload\n",
    "%autoreload 2"
   ]
  },
  {
   "cell_type": "markdown",
   "id": "5bb06066-64df-4395-9677-581616a7a449",
   "metadata": {},
   "source": [
    "## Load Data"
   ]
  },
  {
   "cell_type": "markdown",
   "id": "8caf8b78-337d-4c89-b66f-3b1cf67c944b",
   "metadata": {},
   "source": [
    "- Exploring data properties"
   ]
  },
  {
   "cell_type": "code",
   "execution_count": 15,
   "id": "93617d8e-a1e7-4fef-adbf-b028288c05be",
   "metadata": {},
   "outputs": [],
   "source": [
    "batch_size = 64\n",
    "transform = transforms.Compose([\n",
    "    transforms.ToTensor(),            # Convert to tensor\n",
    "    # transforms.Normalize((0.5,), (0.5,))  # Normalize to [-1, 1]\n",
    "])\n",
    "\n",
    "train_dataset = datasets.FashionMNIST(root='./data', train=True, download=True, transform=transform)\n",
    "test_dataset = datasets.FashionMNIST(root='./data', train=False, download=True, transform=transform)\n",
    "\n",
    "train_loader = DataLoader(train_dataset, batch_size=batch_size, shuffle=True)\n",
    "test_loader = DataLoader(test_dataset, batch_size=batch_size, shuffle=False)"
   ]
  },
  {
   "cell_type": "code",
   "execution_count": 16,
   "id": "d9a6a833-3a5e-410a-ab8f-2c9bc65bb951",
   "metadata": {},
   "outputs": [
    {
     "name": "stdout",
     "output_type": "stream",
     "text": [
      "torch.Size([64, 1, 28, 28])\n"
     ]
    }
   ],
   "source": [
    "for batch in train_loader:\n",
    "    print(batch[0].shape)\n",
    "    break"
   ]
  },
  {
   "cell_type": "code",
   "execution_count": 17,
   "id": "255f102f-8c4b-4542-bc57-985568f6fdd0",
   "metadata": {},
   "outputs": [
    {
     "name": "stdout",
     "output_type": "stream",
     "text": [
      "Mean: 0.2860, Std: 0.3530\n"
     ]
    }
   ],
   "source": [
    "mean, std = compute_mean_std(train_loader)\n",
    "print(f\"Mean: {mean:.4f}, Std: {std:.4f}\")\n"
   ]
  },
  {
   "cell_type": "markdown",
   "id": "c67e464e-2f07-48bf-a245-df928641703c",
   "metadata": {},
   "source": [
    "* Reloading the data with known std and mean"
   ]
  },
  {
   "cell_type": "code",
   "execution_count": 18,
   "id": "ab21cb57-f135-42f5-b438-8ef7efdbc8ff",
   "metadata": {},
   "outputs": [],
   "source": [
    "batch_size = 64\n",
    "transform = transforms.Compose([\n",
    "    transforms.ToTensor(),            # Convert to tensor\n",
    "    transforms.Normalize(mean=(mean,),std=(std,))  # Normalize to [-1, 1]\n",
    "])\n",
    "\n",
    "train_dataset = datasets.FashionMNIST(root='./data', train=True, download=True, transform=transform)\n",
    "test_dataset = datasets.FashionMNIST(root='./data', train=False, download=True, transform=transform)\n",
    "\n",
    "train_loader = DataLoader(train_dataset, batch_size=batch_size, shuffle=True)\n",
    "test_loader = DataLoader(test_dataset, batch_size=batch_size, shuffle=False)"
   ]
  },
  {
   "cell_type": "code",
   "execution_count": 19,
   "id": "80e6d1bf-5f69-4a07-bcd4-3f09ea09bd41",
   "metadata": {},
   "outputs": [
    {
     "name": "stdout",
     "output_type": "stream",
     "text": [
      "Mean: -0.0000, Std: 1.0000\n"
     ]
    }
   ],
   "source": [
    "mean, std = compute_mean_std(train_loader)\n",
    "print(f\"Mean: {mean:.4f}, Std: {std:.4f}\")"
   ]
  },
  {
   "cell_type": "code",
   "execution_count": null,
   "id": "1b255937-a015-48d0-8219-ad34d5f76a33",
   "metadata": {},
   "outputs": [],
   "source": []
  }
 ],
 "metadata": {
  "kernelspec": {
   "display_name": "Python 3 (ipykernel)",
   "language": "python",
   "name": "python3"
  },
  "language_info": {
   "codemirror_mode": {
    "name": "ipython",
    "version": 3
   },
   "file_extension": ".py",
   "mimetype": "text/x-python",
   "name": "python",
   "nbconvert_exporter": "python",
   "pygments_lexer": "ipython3",
   "version": "3.12.3"
  }
 },
 "nbformat": 4,
 "nbformat_minor": 5
}
