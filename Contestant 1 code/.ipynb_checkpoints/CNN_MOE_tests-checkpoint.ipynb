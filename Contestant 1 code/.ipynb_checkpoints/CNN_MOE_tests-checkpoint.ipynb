{
 "cells": [
  {
   "cell_type": "markdown",
   "id": "2744f325-3fb7-4a8f-a6ab-4bb6b1c7a4e0",
   "metadata": {},
   "source": [
    "# CNN tests"
   ]
  },
  {
   "cell_type": "code",
   "execution_count": 1,
   "id": "125e8dc4-d0db-4695-b96b-6111021d07b7",
   "metadata": {},
   "outputs": [],
   "source": [
    "import torch\n",
    "import torch.nn as nn\n",
    "import numpy as np\n",
    "import torch.optim as optim\n",
    "from torchvision import datasets, transforms\n",
    "from torch.utils.data import DataLoader, Subset, random_split\n",
    "import random\n",
    "\n",
    "from classiferNN import CNN,evaluate_model,train_model\n",
    "from MOE import MOE_CNN\n",
    "\n",
    "%load_ext autoreload\n",
    "%autoreload 2"
   ]
  },
  {
   "cell_type": "markdown",
   "id": "3b4c87c7-f644-40db-b43e-0d4979166c2e",
   "metadata": {},
   "source": [
    "* Set Up"
   ]
  },
  {
   "cell_type": "code",
   "execution_count": 2,
   "id": "71c8a911-e419-44b7-b7f9-7ab5667b8d85",
   "metadata": {},
   "outputs": [
    {
     "name": "stdout",
     "output_type": "stream",
     "text": [
      "Device used: cpu\n"
     ]
    }
   ],
   "source": [
    "device = 'cpu' #torch.device(\"cuda\" if torch.cuda.is_available() else \"cpu\")\n",
    "num_workers=0\n",
    "pin_memory=False\n",
    "print(f\"Device used: {device}\")"
   ]
  },
  {
   "cell_type": "code",
   "execution_count": 3,
   "id": "fba9ab48-cff0-4b65-a47a-4ff2b128f9eb",
   "metadata": {},
   "outputs": [],
   "source": [
    "mean = 0.3240\n",
    "std = 0.3612\n",
    "batch_size = 128\n",
    "num_experts = 4\n",
    "sample_fraction = 0.60\n",
    "seed = 42\n",
    "\n",
    "# Transform\n",
    "transform = transforms.Compose([\n",
    "    transforms.ToTensor(),\n",
    "    transforms.CenterCrop(26),\n",
    "    transforms.Normalize(mean=(mean,), std=(std,))\n",
    "])\n",
    "\n",
    "# Load datasets\n",
    "train_dataset = datasets.FashionMNIST(root='./data', train=True, download=True, transform=transform)\n",
    "test_dataset = datasets.FashionMNIST(root='./data', train=False, download=True, transform=transform)\n",
    "\n",
    "# Split train/val (80/20)\n",
    "g = torch.Generator().manual_seed(seed)\n",
    "train_size = int(0.8 * len(train_dataset))\n",
    "val_size = len(train_dataset) - train_size\n",
    "train_subset, val_subset = random_split(train_dataset, [train_size, val_size], generator=g)\n",
    "\n",
    "# Expert loaders\n",
    "train_indices = list(range(train_size))\n",
    "num_samples = int(sample_fraction * train_size)\n",
    "\n",
    "expert_train_loaders = []\n",
    "for i in range(num_experts):\n",
    "    sampled_indices = random.sample(train_indices, num_samples)  # Without replacement\n",
    "    sampled_subset = Subset(train_subset, sampled_indices)\n",
    "    loader = DataLoader(sampled_subset, batch_size=batch_size, shuffle=True,num_workers=num_workers, pin_memory=pin_memory)\n",
    "    expert_train_loaders.append(loader)\n",
    "\n",
    "# Validation and test loaders\n",
    "val_loader = DataLoader(val_subset, batch_size=batch_size, shuffle=False,num_workers=num_workers, pin_memory=pin_memory)\n",
    "test_loader = DataLoader(test_dataset, batch_size=batch_size, shuffle=False,num_workers=num_workers, pin_memory=pin_memory)\n"
   ]
  },
  {
   "cell_type": "code",
   "execution_count": 4,
   "id": "b1015b6f-c7e8-4993-8354-cbc8819dbef1",
   "metadata": {},
   "outputs": [
    {
     "data": {
      "text/plain": [
       "0.6"
      ]
     },
     "execution_count": 4,
     "metadata": {},
     "output_type": "execute_result"
    }
   ],
   "source": [
    "(len(expert_train_loaders[0])*batch_size)/train_size"
   ]
  },
  {
   "cell_type": "code",
   "execution_count": 5,
   "id": "387907ba-2f63-4d6f-b461-13e7cdf21229",
   "metadata": {},
   "outputs": [
    {
     "data": {
      "text/plain": [
       "CNN(\n",
       "  (conv): Sequential(\n",
       "    (0): Conv2d(1, 4, kernel_size=(5, 5), stride=(3, 3), padding=(1, 1))\n",
       "    (1): ReLU()\n",
       "    (2): Conv2d(4, 4, kernel_size=(5, 5), stride=(3, 3), padding=(1, 1))\n",
       "    (3): ReLU()\n",
       "  )\n",
       "  (fc): Sequential(\n",
       "    (0): Linear(in_features=16, out_features=16, bias=True)\n",
       "    (1): ReLU()\n",
       "    (2): Linear(in_features=16, out_features=16, bias=True)\n",
       "    (3): ReLU()\n",
       "    (4): Linear(in_features=16, out_features=10, bias=True)\n",
       "  )\n",
       ")"
      ]
     },
     "execution_count": 5,
     "metadata": {},
     "output_type": "execute_result"
    }
   ],
   "source": [
    "model = CNN(dim = 26,conv_channels= [4,4],fc_dims=[16,16],kernel_size =5,stride=3,padding=1,max_pooling=False)\n",
    "model"
   ]
  },
  {
   "cell_type": "code",
   "execution_count": 6,
   "id": "ad4f6b02-d50d-4135-a561-f6651a77b183",
   "metadata": {},
   "outputs": [
    {
     "name": "stdout",
     "output_type": "stream",
     "text": [
      "Total trainable parameters: 1222\n"
     ]
    }
   ],
   "source": [
    "model.get_num_params()"
   ]
  },
  {
   "cell_type": "code",
   "execution_count": 7,
   "id": "389877d0-bcc3-4001-8cac-61fcb633b690",
   "metadata": {},
   "outputs": [
    {
     "name": "stdout",
     "output_type": "stream",
     "text": [
      "------------------- Training Expert0 -------------------\n",
      "Epoch 1/20 completed in 7.21s.\n",
      "Epoch 2/20 completed in 7.03s.\n",
      "Epoch 3/20 completed in 6.98s.\n",
      "Epoch 4/20 completed in 6.98s.\n",
      "Epoch 5/20 completed in 6.96s.\n",
      "Validation Accuracy after epoch 5: 79.97%\n",
      "Epoch 6/20 completed in 6.99s.\n",
      "Epoch 7/20 completed in 7.10s.\n",
      "Epoch 8/20 completed in 6.88s.\n",
      "Epoch 9/20 completed in 6.90s.\n",
      "Epoch 10/20 completed in 6.93s.\n",
      "Validation Accuracy after epoch 10: 81.93%\n",
      "Epoch 11/20 completed in 6.92s.\n",
      "Epoch 12/20 completed in 7.00s.\n",
      "Epoch 13/20 completed in 6.92s.\n",
      "Epoch 14/20 completed in 6.92s.\n",
      "Epoch 15/20 completed in 6.98s.\n",
      "Validation Accuracy after epoch 15: 82.82%\n",
      "Epoch 16/20 completed in 6.95s.\n",
      "Epoch 17/20 completed in 7.02s.\n",
      "Epoch 18/20 completed in 6.98s.\n",
      "Epoch 19/20 completed in 7.10s.\n",
      "Epoch 20/20 completed in 6.94s.\n",
      "Validation Accuracy after epoch 20: 83.68%\n",
      "------------------- Expert0 finished -------------------\n",
      "------------------- Training Expert1 -------------------\n",
      "Epoch 1/20 completed in 7.01s.\n",
      "Epoch 2/20 completed in 7.04s.\n",
      "Epoch 3/20 completed in 6.99s.\n",
      "Epoch 4/20 completed in 7.01s.\n",
      "Epoch 5/20 completed in 7.13s.\n",
      "Validation Accuracy after epoch 5: 79.69%\n",
      "Epoch 6/20 completed in 6.93s.\n",
      "Epoch 7/20 completed in 7.03s.\n",
      "Epoch 8/20 completed in 6.98s.\n",
      "Epoch 9/20 completed in 6.97s.\n",
      "Epoch 10/20 completed in 6.98s.\n",
      "Validation Accuracy after epoch 10: 80.40%\n",
      "Epoch 11/20 completed in 7.15s.\n",
      "Epoch 12/20 completed in 6.99s.\n",
      "Epoch 13/20 completed in 6.97s.\n",
      "Epoch 14/20 completed in 6.99s.\n",
      "Epoch 15/20 completed in 6.99s.\n",
      "Validation Accuracy after epoch 15: 82.31%\n",
      "Epoch 16/20 completed in 6.97s.\n",
      "Epoch 17/20 completed in 6.94s.\n",
      "Epoch 18/20 completed in 6.96s.\n",
      "Epoch 19/20 completed in 7.00s.\n",
      "Epoch 20/20 completed in 7.01s.\n",
      "Validation Accuracy after epoch 20: 83.16%\n",
      "------------------- Expert1 finished -------------------\n",
      "------------------- Training Expert2 -------------------\n",
      "Epoch 1/20 completed in 7.00s.\n",
      "Epoch 2/20 completed in 7.00s.\n",
      "Epoch 3/20 completed in 6.94s.\n",
      "Epoch 4/20 completed in 7.11s.\n",
      "Epoch 5/20 completed in 7.03s.\n",
      "Validation Accuracy after epoch 5: 77.02%\n",
      "Epoch 6/20 completed in 7.02s.\n",
      "Epoch 7/20 completed in 6.98s.\n",
      "Epoch 8/20 completed in 6.99s.\n",
      "Epoch 9/20 completed in 7.08s.\n",
      "Epoch 10/20 completed in 6.94s.\n",
      "Validation Accuracy after epoch 10: 80.26%\n",
      "Epoch 11/20 completed in 6.96s.\n",
      "Epoch 12/20 completed in 7.06s.\n",
      "Epoch 13/20 completed in 7.00s.\n",
      "Epoch 14/20 completed in 7.03s.\n",
      "Epoch 15/20 completed in 7.06s.\n",
      "Validation Accuracy after epoch 15: 82.03%\n",
      "Epoch 16/20 completed in 7.02s.\n",
      "Epoch 17/20 completed in 7.21s.\n",
      "Epoch 18/20 completed in 7.08s.\n",
      "Epoch 19/20 completed in 6.99s.\n",
      "Epoch 20/20 completed in 6.98s.\n",
      "Validation Accuracy after epoch 20: 82.58%\n",
      "------------------- Expert2 finished -------------------\n",
      "------------------- Training Expert3 -------------------\n",
      "Epoch 1/20 completed in 7.11s.\n",
      "Epoch 2/20 completed in 7.06s.\n",
      "Epoch 3/20 completed in 7.25s.\n",
      "Epoch 4/20 completed in 7.04s.\n",
      "Epoch 5/20 completed in 7.12s.\n",
      "Validation Accuracy after epoch 5: 80.54%\n",
      "Epoch 6/20 completed in 7.05s.\n",
      "Epoch 7/20 completed in 6.95s.\n",
      "Epoch 8/20 completed in 7.05s.\n",
      "Epoch 9/20 completed in 7.07s.\n",
      "Epoch 10/20 completed in 7.02s.\n",
      "Validation Accuracy after epoch 10: 83.02%\n",
      "Epoch 11/20 completed in 7.06s.\n",
      "Epoch 12/20 completed in 7.01s.\n",
      "Epoch 13/20 completed in 7.11s.\n",
      "Epoch 14/20 completed in 7.00s.\n",
      "Epoch 15/20 completed in 7.07s.\n",
      "Validation Accuracy after epoch 15: 84.33%\n",
      "Epoch 16/20 completed in 6.98s.\n",
      "Epoch 17/20 completed in 7.04s.\n",
      "Epoch 18/20 completed in 6.95s.\n",
      "Epoch 19/20 completed in 7.01s.\n",
      "Epoch 20/20 completed in 7.05s.\n",
      "Validation Accuracy after epoch 20: 84.13%\n",
      "------------------- Expert3 finished -------------------\n"
     ]
    }
   ],
   "source": [
    "for i in range(num_experts):\n",
    "    print(f\"------------------- Training Expert{i} -------------------\")\n",
    "    model = CNN(dim = 26,conv_channels= [4,4],fc_dims=[16,16,16],kernel_size =4,stride=3,padding=2,max_pooling=False)\n",
    "    criterion = nn.CrossEntropyLoss()\n",
    "    optimizer = optim.Adam(model.parameters(), lr=1e-3)\n",
    "    epochs=20\n",
    "    \n",
    "    train_model(model=model,\n",
    "                train_loader=expert_train_loaders[i],\n",
    "                val_loader=val_loader,\n",
    "                optimizer=optimizer,\n",
    "                criterion=criterion,\n",
    "                num_epochs=epochs,\n",
    "                device=device)\n",
    "    torch.save(model,f'./pretrained/expert{i}.pth')\n",
    "    print(f\"------------------- Expert{i} finished -------------------\")"
   ]
  },
  {
   "cell_type": "markdown",
   "id": "a8978b31-e9f5-4295-a465-c4344849f1d8",
   "metadata": {},
   "source": [
    "## Train MOE "
   ]
  },
  {
   "cell_type": "code",
   "execution_count": 15,
   "id": "a6f3df8e-ef31-4156-8872-fc0217b32bde",
   "metadata": {},
   "outputs": [],
   "source": [
    "experts = []\n",
    "for i in range(num_experts): \n",
    "    expert = CNN(dim = 26,conv_channels= [4,4],fc_dims=[16,16],kernel_size =4,stride=3,padding=2,max_pooling=True)\n",
    "    path = f'./pretrained/expert{i}.pth'\n",
    "    expert = torch.load(path)  # map_location ensures it loads on correct device\n",
    "    expert.eval()  # Set to eval mode if using for inference\n",
    "    experts.append(expert)\n",
    "\n",
    "\n",
    "for expert in experts:\n",
    "    for param in expert.parameters():\n",
    "        param.requires_grad = False\n",
    "\n",
    "# Create Mixture of Experts\n",
    "gating_net = CNN(dim = 26,conv_channels= [8,8],fc_dims=[16,16],kernel_size =5,stride=3,padding=2,max_pooling=True)\n",
    "moe_model = MOE_CNN(experts=experts, input_dim=26,gating_net = gating_net)"
   ]
  },
  {
   "cell_type": "code",
   "execution_count": 16,
   "id": "7ffb2c7b-7ac5-4f1c-ac93-97d19f51016b",
   "metadata": {},
   "outputs": [
    {
     "data": {
      "text/plain": [
       "MOE_CNN(\n",
       "  (experts): ModuleList(\n",
       "    (0-3): 4 x CNN(\n",
       "      (conv): Sequential(\n",
       "        (0): Conv2d(1, 4, kernel_size=(4, 4), stride=(3, 3), padding=(2, 2))\n",
       "        (1): ReLU()\n",
       "        (2): Conv2d(4, 4, kernel_size=(4, 4), stride=(3, 3), padding=(2, 2))\n",
       "        (3): ReLU()\n",
       "      )\n",
       "      (fc): Sequential(\n",
       "        (0): Linear(in_features=64, out_features=16, bias=True)\n",
       "        (1): ReLU()\n",
       "        (2): Linear(in_features=16, out_features=16, bias=True)\n",
       "        (3): ReLU()\n",
       "        (4): Linear(in_features=16, out_features=16, bias=True)\n",
       "        (5): ReLU()\n",
       "        (6): Linear(in_features=16, out_features=10, bias=True)\n",
       "      )\n",
       "    )\n",
       "  )\n",
       "  (gate): GatingNetwork(\n",
       "    (net): CNN(\n",
       "      (conv): Sequential(\n",
       "        (0): Conv2d(1, 8, kernel_size=(5, 5), stride=(3, 3), padding=(2, 2))\n",
       "        (1): ReLU()\n",
       "        (2): MaxPool2d(kernel_size=2, stride=2, padding=0, dilation=1, ceil_mode=False)\n",
       "        (3): Conv2d(8, 8, kernel_size=(5, 5), stride=(3, 3), padding=(2, 2))\n",
       "        (4): ReLU()\n",
       "        (5): MaxPool2d(kernel_size=2, stride=2, padding=0, dilation=1, ceil_mode=False)\n",
       "      )\n",
       "      (fc): Sequential(\n",
       "        (0): Linear(in_features=8, out_features=16, bias=True)\n",
       "        (1): ReLU()\n",
       "        (2): Linear(in_features=16, out_features=16, bias=True)\n",
       "        (3): ReLU()\n",
       "        (4): Linear(in_features=16, out_features=10, bias=True)\n",
       "      )\n",
       "    )\n",
       "    (proj_to_experts): Linear(in_features=10, out_features=4, bias=True)\n",
       "  )\n",
       ")"
      ]
     },
     "execution_count": 16,
     "metadata": {},
     "output_type": "execute_result"
    }
   ],
   "source": [
    "moe_model"
   ]
  },
  {
   "cell_type": "code",
   "execution_count": 17,
   "id": "7bdd101b-5aa2-4622-8e7e-66ac37bbddbe",
   "metadata": {},
   "outputs": [
    {
     "name": "stdout",
     "output_type": "stream",
     "text": [
      "Total trainable parameters: 2446\n"
     ]
    }
   ],
   "source": [
    "moe_model.get_num_params() #without experts parameters "
   ]
  },
  {
   "cell_type": "markdown",
   "id": "b43caf32-6123-466a-b745-95fb1e3519ae",
   "metadata": {},
   "source": [
    "* load data"
   ]
  },
  {
   "cell_type": "code",
   "execution_count": 18,
   "id": "2f35f027-6135-4ef5-8032-117973a13cdf",
   "metadata": {},
   "outputs": [],
   "source": [
    "mean= 0.3240 \n",
    "std= 0.3612\n",
    "batch_size = 128\n",
    "transform = transforms.Compose([\n",
    "    transforms.ToTensor(),            # Convert to tensor\n",
    "    transforms.CenterCrop(26),\n",
    "    transforms.Normalize(mean=(mean,),std=(std,)),\n",
    "])\n",
    "\n",
    "train_dataset = datasets.FashionMNIST(root='./data', train=True, download=True, transform=transform)\n",
    "test_dataset = datasets.FashionMNIST(root='./data', train=False, download=True, transform=transform)\n",
    "\n",
    "g = torch.Generator()\n",
    "g.manual_seed(seed)\n",
    "\n",
    "train_loader = DataLoader(train_dataset, batch_size=batch_size, shuffle=True, num_workers=num_workers, pin_memory=pin_memory)\n",
    "test_loader = DataLoader(test_dataset, batch_size=batch_size, shuffle=False,num_workers=num_workers, pin_memory=pin_memory)\n",
    "\n",
    "# Split into train and validation (80/20)\n",
    "train_size = int(0.8 * len(train_dataset))\n",
    "val_size = len(train_dataset) - train_size\n",
    "train_subset, val_subset = random_split(train_dataset, [train_size, val_size], generator=g)\n",
    "\n",
    "# DataLoaders\n",
    "train_loader = DataLoader(train_subset, batch_size=batch_size, shuffle=True,num_workers=num_workers, pin_memory=pin_memory)\n",
    "val_loader = DataLoader(val_subset, batch_size=batch_size, shuffle=False,num_workers=num_workers, pin_memory=pin_memory)"
   ]
  },
  {
   "cell_type": "code",
   "execution_count": 19,
   "id": "1ba76ef7-d2de-4625-b044-9bebdd29901c",
   "metadata": {},
   "outputs": [
    {
     "name": "stdout",
     "output_type": "stream",
     "text": [
      "Epoch 1/15 completed in 14.03s.\n",
      "Epoch 2/15 completed in 13.18s.\n",
      "Validation Accuracy after epoch 2: 85.98%\n",
      "Epoch 3/15 completed in 13.12s.\n",
      "Epoch 4/15 completed in 13.11s.\n",
      "Validation Accuracy after epoch 4: 85.93%\n",
      "Epoch 5/15 completed in 13.14s.\n",
      "Epoch 6/15 completed in 13.59s.\n",
      "Validation Accuracy after epoch 6: 85.83%\n",
      "Epoch 7/15 completed in 13.34s.\n",
      "Epoch 8/15 completed in 13.73s.\n",
      "Validation Accuracy after epoch 8: 85.78%\n",
      "Epoch 9/15 completed in 13.71s.\n",
      "Epoch 10/15 completed in 13.31s.\n",
      "Validation Accuracy after epoch 10: 85.82%\n",
      "Epoch 11/15 completed in 13.44s.\n",
      "Epoch 12/15 completed in 13.18s.\n",
      "Validation Accuracy after epoch 12: 85.76%\n",
      "Epoch 13/15 completed in 13.16s.\n",
      "Epoch 14/15 completed in 13.25s.\n",
      "Validation Accuracy after epoch 14: 85.83%\n",
      "Epoch 15/15 completed in 13.09s.\n",
      "Validation Accuracy after epoch 15: 85.86%\n"
     ]
    }
   ],
   "source": [
    "criterion = nn.CrossEntropyLoss()\n",
    "optimizer = optim.AdamW(moe_model.parameters(), lr=1e-4)\n",
    "epochs=15\n",
    "    \n",
    "train_model(model=moe_model,\n",
    "            train_loader=train_loader,\n",
    "            val_loader=val_loader,\n",
    "            optimizer=optimizer,\n",
    "            criterion=criterion,\n",
    "            num_epochs=epochs,\n",
    "            device=device,\n",
    "            val_every_k = 2)"
   ]
  },
  {
   "cell_type": "code",
   "execution_count": 20,
   "id": "9e39ddc6-ae96-4538-aa1a-f1d2d3c34140",
   "metadata": {},
   "outputs": [
    {
     "data": {
      "text/plain": [
       "85.14"
      ]
     },
     "execution_count": 20,
     "metadata": {},
     "output_type": "execute_result"
    }
   ],
   "source": [
    "evaluate_model(model=moe_model,data_loader=test_loader,device='cpu')"
   ]
  },
  {
   "cell_type": "code",
   "execution_count": null,
   "id": "81d1ae5d-2b21-44d8-b9b5-807f14018403",
   "metadata": {},
   "outputs": [],
   "source": []
  }
 ],
 "metadata": {
  "kernelspec": {
   "display_name": "Python 3 (ipykernel)",
   "language": "python",
   "name": "python3"
  },
  "language_info": {
   "codemirror_mode": {
    "name": "ipython",
    "version": 3
   },
   "file_extension": ".py",
   "mimetype": "text/x-python",
   "name": "python",
   "nbconvert_exporter": "python",
   "pygments_lexer": "ipython3",
   "version": "3.12.3"
  }
 },
 "nbformat": 4,
 "nbformat_minor": 5
}
