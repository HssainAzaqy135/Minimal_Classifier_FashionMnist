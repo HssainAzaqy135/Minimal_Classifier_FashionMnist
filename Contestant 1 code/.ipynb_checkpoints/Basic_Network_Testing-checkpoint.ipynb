{
 "cells": [
  {
   "cell_type": "markdown",
   "id": "2bf3c562-536c-4e34-98b0-b005e7c70ae6",
   "metadata": {},
   "source": [
    "# Model Testing Notebook "
   ]
  },
  {
   "cell_type": "markdown",
   "id": "bb33c38c-a88d-46be-b4d0-50c3bc7c8a77",
   "metadata": {},
   "source": [
    "* Imports"
   ]
  },
  {
   "cell_type": "code",
   "execution_count": 24,
   "id": "fe443291-691e-41de-a367-8f2e30742f36",
   "metadata": {},
   "outputs": [
    {
     "name": "stdout",
     "output_type": "stream",
     "text": [
      "The autoreload extension is already loaded. To reload it, use:\n",
      "  %reload_ext autoreload\n"
     ]
    }
   ],
   "source": [
    "import torch\n",
    "import torch.nn as nn\n",
    "import numpy as np\n",
    "import torch.optim as optim\n",
    "from torchvision import datasets, transforms\n",
    "from torch.utils.data import DataLoader,random_split\n",
    "\n",
    "from classiferNN import BasicNN,train_model,evaluate_model\n",
    "from utils import compute_mean_std,show_images\n",
    "%load_ext autoreload\n",
    "%autoreload 2"
   ]
  },
  {
   "cell_type": "markdown",
   "id": "544b7a6a-779a-4a6f-836b-690ccf54e0b5",
   "metadata": {},
   "source": [
    "* Set Up"
   ]
  },
  {
   "cell_type": "code",
   "execution_count": 2,
   "id": "218a8078-e664-4ec5-a110-bdf7b98aac0f",
   "metadata": {},
   "outputs": [],
   "source": [
    "def set_seed(seed=42):\n",
    "    torch.manual_seed(seed)\n",
    "    np.random.seed(seed)\n",
    "    if torch.cuda.is_available():\n",
    "        torch.cuda.manual_seed_all(seed)\n",
    "\n",
    "seed=42\n",
    "set_seed(seed)"
   ]
  },
  {
   "cell_type": "code",
   "execution_count": 3,
   "id": "5cfd23d7-c20b-4318-9a89-d4bf66653668",
   "metadata": {},
   "outputs": [
    {
     "name": "stdout",
     "output_type": "stream",
     "text": [
      "Device used: cuda\n"
     ]
    }
   ],
   "source": [
    "device = torch.device(\"cuda\" if torch.cuda.is_available() else \"cpu\")\n",
    "num_workers=0\n",
    "print(f\"Device used: {device}\")"
   ]
  },
  {
   "cell_type": "markdown",
   "id": "5bb06066-64df-4395-9677-581616a7a449",
   "metadata": {},
   "source": [
    "## Load Data"
   ]
  },
  {
   "cell_type": "markdown",
   "id": "8caf8b78-337d-4c89-b66f-3b1cf67c944b",
   "metadata": {},
   "source": [
    "- Exploring data properties"
   ]
  },
  {
   "cell_type": "code",
   "execution_count": 4,
   "id": "93617d8e-a1e7-4fef-adbf-b028288c05be",
   "metadata": {},
   "outputs": [],
   "source": [
    "batch_size = 64\n",
    "transform = transforms.Compose([\n",
    "    transforms.ToTensor(),            # Convert to tensor\n",
    "])\n",
    "\n",
    "train_dataset = datasets.FashionMNIST(root='./data', train=True, download=True, transform=transform)\n",
    "test_dataset = datasets.FashionMNIST(root='./data', train=False, download=True, transform=transform)\n",
    "\n",
    "g = torch.Generator()\n",
    "g.manual_seed(seed)\n",
    "\n",
    "train_loader = DataLoader(train_dataset, batch_size=batch_size, shuffle=True, generator=g)\n",
    "test_loader = DataLoader(test_dataset, batch_size=batch_size, shuffle=False)"
   ]
  },
  {
   "cell_type": "code",
   "execution_count": 5,
   "id": "d9a6a833-3a5e-410a-ab8f-2c9bc65bb951",
   "metadata": {},
   "outputs": [
    {
     "name": "stdout",
     "output_type": "stream",
     "text": [
      "torch.Size([64, 1, 28, 28])\n"
     ]
    }
   ],
   "source": [
    "for batch in train_loader:\n",
    "    print(batch[0].shape)\n",
    "    break"
   ]
  },
  {
   "cell_type": "code",
   "execution_count": 6,
   "id": "255f102f-8c4b-4542-bc57-985568f6fdd0",
   "metadata": {},
   "outputs": [
    {
     "name": "stdout",
     "output_type": "stream",
     "text": [
      "Mean: 0.2860, Std: 0.3530\n"
     ]
    }
   ],
   "source": [
    "mean, std = compute_mean_std(train_loader)\n",
    "print(f\"Mean: {mean:.4f}, Std: {std:.4f}\")"
   ]
  },
  {
   "cell_type": "markdown",
   "id": "250721a0-828b-4e92-8d12-7392ccce483f",
   "metadata": {},
   "source": [
    "* View couple of images"
   ]
  },
  {
   "cell_type": "code",
   "execution_count": 7,
   "id": "db1ac092-3305-430f-8a06-54a4fc3d3093",
   "metadata": {},
   "outputs": [
    {
     "data": {
      "image/png": "[encoded data removed]",
      "text/plain": [
       "<Figure size 1600x200 with 8 Axes>"
      ]
     },
     "metadata": {},
     "output_type": "display_data"
    }
   ],
   "source": [
    "# Optional: class names for FashionMNIST\n",
    "class_names = ['T-shirt/top', 'Trouser', 'Pullover', 'Dress', 'Coat', \n",
    "               'Sandal', 'Shirt', 'Sneaker', 'Bag', 'Ankle boot']\n",
    "\n",
    "show_images(train_loader, n=8, class_names=class_names)\n"
   ]
  },
  {
   "cell_type": "markdown",
   "id": "06c30558-9ba7-4be0-bef9-0dc9c9cc404c",
   "metadata": {},
   "source": [
    "* Try cropping to 26x26"
   ]
  },
  {
   "cell_type": "code",
   "execution_count": 8,
   "id": "5eaad645-d1f7-4a86-91d6-46a5cc74d175",
   "metadata": {},
   "outputs": [],
   "source": [
    "batch_size = 64\n",
    "transform = transforms.Compose([\n",
    "    transforms.ToTensor(),            # Convert to tensor\n",
    "    transforms.CenterCrop(26),\n",
    "])\n",
    "\n",
    "train_dataset = datasets.FashionMNIST(root='./data', train=True, download=True, transform=transform)\n",
    "test_dataset = datasets.FashionMNIST(root='./data', train=False, download=True, transform=transform)\n",
    "\n",
    "g = torch.Generator()\n",
    "g.manual_seed(seed)\n",
    "\n",
    "train_loader = DataLoader(train_dataset, batch_size=batch_size, shuffle=True, generator=g)\n",
    "test_loader = DataLoader(test_dataset, batch_size=batch_size, shuffle=False)"
   ]
  },
  {
   "cell_type": "code",
   "execution_count": 9,
   "id": "891c33bd-d249-42ef-a38f-f1b66a40b320",
   "metadata": {},
   "outputs": [
    {
     "name": "stdout",
     "output_type": "stream",
     "text": [
      "torch.Size([64, 1, 26, 26])\n"
     ]
    }
   ],
   "source": [
    "for batch in train_loader:\n",
    "    print(batch[0].shape)\n",
    "    break"
   ]
  },
  {
   "cell_type": "code",
   "execution_count": 10,
   "id": "2bce5003-abae-4385-b090-84f3d2c7a243",
   "metadata": {},
   "outputs": [
    {
     "name": "stdout",
     "output_type": "stream",
     "text": [
      "Mean: 0.3240, Std: 0.3612\n"
     ]
    }
   ],
   "source": [
    "mean, std = compute_mean_std(train_loader)\n",
    "print(f\"Mean: {mean:.4f}, Std: {std:.4f}\")"
   ]
  },
  {
   "cell_type": "code",
   "execution_count": 11,
   "id": "1163cadd-abc2-4289-9d58-abc756d98b64",
   "metadata": {},
   "outputs": [
    {
     "data": {
      "image/png": "[encoded data removed]",
      "text/plain": [
       "<Figure size 1600x200 with 8 Axes>"
      ]
     },
     "metadata": {},
     "output_type": "display_data"
    }
   ],
   "source": [
    "# Optional: class names for FashionMNIST\n",
    "class_names = ['T-shirt/top', 'Trouser', 'Pullover', 'Dress', 'Coat', \n",
    "               'Sandal', 'Shirt', 'Sneaker', 'Bag', 'Ankle boot']\n",
    "\n",
    "show_images(train_loader, n=8, class_names=class_names)\n"
   ]
  },
  {
   "cell_type": "markdown",
   "id": "c67e464e-2f07-48bf-a245-df928641703c",
   "metadata": {},
   "source": [
    "## Final data loading\n",
    "* Reloading the data with known std and mean and cropped"
   ]
  },
  {
   "cell_type": "code",
   "execution_count": 12,
   "id": "ab21cb57-f135-42f5-b438-8ef7efdbc8ff",
   "metadata": {},
   "outputs": [],
   "source": [
    "mean= 0.3240 \n",
    "std= 0.3612\n",
    "batch_size = 64\n",
    "transform = transforms.Compose([\n",
    "    transforms.ToTensor(),            # Convert to tensor\n",
    "    transforms.CenterCrop(26),\n",
    "    transforms.Normalize(mean=(mean,),std=(std,)),\n",
    "])\n",
    "\n",
    "train_dataset = datasets.FashionMNIST(root='./data', train=True, download=True, transform=transform)\n",
    "test_dataset = datasets.FashionMNIST(root='./data', train=False, download=True, transform=transform)\n",
    "\n",
    "g = torch.Generator()\n",
    "g.manual_seed(seed)\n",
    "\n",
    "train_loader = DataLoader(train_dataset, batch_size=batch_size, shuffle=True, generator=g)\n",
    "test_loader = DataLoader(test_dataset, batch_size=batch_size, shuffle=False,num_workers=num_workers)"
   ]
  },
  {
   "cell_type": "code",
   "execution_count": 13,
   "id": "80e6d1bf-5f69-4a07-bcd4-3f09ea09bd41",
   "metadata": {},
   "outputs": [
    {
     "name": "stdout",
     "output_type": "stream",
     "text": [
      "Mean: -0.0000, Std: 1.0001\n"
     ]
    }
   ],
   "source": [
    "mean, std = compute_mean_std(train_loader)\n",
    "print(f\"Mean: {mean:.4f}, Std: {std:.4f}\")"
   ]
  },
  {
   "cell_type": "code",
   "execution_count": 14,
   "id": "89ffb0ac-7d21-4395-b624-5f0642e71cd8",
   "metadata": {},
   "outputs": [
    {
     "data": {
      "image/png": "[encoded data removed]",
      "text/plain": [
       "<Figure size 1600x200 with 8 Axes>"
      ]
     },
     "metadata": {},
     "output_type": "display_data"
    }
   ],
   "source": [
    "class_names = ['T-shirt/top', 'Trouser', 'Pullover', 'Dress', 'Coat', \n",
    "               'Sandal', 'Shirt', 'Sneaker', 'Bag', 'Ankle boot']\n",
    "\n",
    "show_images(train_loader, n=8, class_names=class_names)"
   ]
  },
  {
   "cell_type": "markdown",
   "id": "ca62cb5d-751c-4faa-a150-786105e628cb",
   "metadata": {},
   "source": [
    "# Model training"
   ]
  },
  {
   "cell_type": "markdown",
   "id": "8e2bc757-6e08-4512-ba6e-cdfec341f16c",
   "metadata": {},
   "source": [
    "* Split to train and validation sets"
   ]
  },
  {
   "cell_type": "code",
   "execution_count": 15,
   "id": "1e9f2d77-68dd-43d3-86ef-c202fdb2f1a8",
   "metadata": {},
   "outputs": [],
   "source": [
    "# Split into train and validation (80/20)\n",
    "train_size = int(0.8 * len(train_dataset))\n",
    "val_size = len(train_dataset) - train_size\n",
    "train_subset, val_subset = random_split(train_dataset, [train_size, val_size], generator=g)\n",
    "\n",
    "# DataLoaders\n",
    "train_loader = DataLoader(train_subset, batch_size=batch_size, shuffle=True, generator=g,num_workers=num_workers)\n",
    "val_loader = DataLoader(val_subset, batch_size=batch_size, shuffle=False,num_workers=num_workers)"
   ]
  },
  {
   "cell_type": "code",
   "execution_count": 16,
   "id": "96ab9487-6635-4694-8611-bed3e29dd7cb",
   "metadata": {},
   "outputs": [
    {
     "data": {
      "text/plain": [
       "BasicNN(\n",
       "  (network): Sequential(\n",
       "    (0): Flatten(start_dim=1, end_dim=-1)\n",
       "    (1): Linear(in_features=676, out_features=64, bias=True)\n",
       "    (2): ReLU()\n",
       "    (3): Linear(in_features=64, out_features=32, bias=True)\n",
       "    (4): ReLU()\n",
       "    (5): Linear(in_features=32, out_features=10, bias=True)\n",
       "  )\n",
       ")"
      ]
     },
     "execution_count": 16,
     "metadata": {},
     "output_type": "execute_result"
    }
   ],
   "source": [
    "model = BasicNN(dim = 26)\n",
    "model"
   ]
  },
  {
   "cell_type": "code",
   "execution_count": 23,
   "id": "733817ad-7414-4705-afd4-cf20637d87e9",
   "metadata": {},
   "outputs": [
    {
     "name": "stdout",
     "output_type": "stream",
     "text": [
      "Total trainable parameters: 45738\n"
     ]
    }
   ],
   "source": [
    "model.get_num_params()"
   ]
  },
  {
   "cell_type": "code",
   "execution_count": 17,
   "id": "762d02e0-d273-46ab-b969-4ef0ab661ab1",
   "metadata": {},
   "outputs": [
    {
     "name": "stdout",
     "output_type": "stream",
     "text": [
      "Epoch 1/15 completed in 11.36s.\n",
      "Epoch 2/15 completed in 11.71s.\n",
      "Epoch 3/15 completed in 11.98s.\n",
      "Epoch 4/15 completed in 11.68s.\n",
      "Epoch 5/15 completed in 11.45s.\n",
      "Validation Accuracy after epoch 5: 87.48%\n",
      "Epoch 6/15 completed in 11.48s.\n",
      "Epoch 7/15 completed in 11.59s.\n",
      "Epoch 8/15 completed in 11.59s.\n",
      "Epoch 9/15 completed in 11.48s.\n",
      "Epoch 10/15 completed in 12.59s.\n",
      "Validation Accuracy after epoch 10: 88.00%\n",
      "Epoch 11/15 completed in 11.71s.\n",
      "Epoch 12/15 completed in 11.68s.\n",
      "Epoch 13/15 completed in 11.73s.\n",
      "Epoch 14/15 completed in 11.60s.\n",
      "Epoch 15/15 completed in 11.65s.\n",
      "Validation Accuracy after epoch 15: 87.72%\n"
     ]
    }
   ],
   "source": [
    "criterion = nn.CrossEntropyLoss()\n",
    "optimizer = optim.Adam(model.parameters(), lr=1e-3)\n",
    "epochs=15\n",
    "\n",
    "train_model(model=model,\n",
    "            train_loader=train_loader,\n",
    "            val_loader=val_loader,\n",
    "            optimizer=optimizer,\n",
    "            criterion=criterion,\n",
    "            num_epochs=epochs,\n",
    "            device='cpu')"
   ]
  },
  {
   "cell_type": "markdown",
   "id": "87109299-ee3e-4d8d-99c4-f4929984d180",
   "metadata": {},
   "source": [
    "* Test model"
   ]
  },
  {
   "cell_type": "code",
   "execution_count": 25,
   "id": "9a177770-4e45-4f70-846c-26525cfebc67",
   "metadata": {},
   "outputs": [
    {
     "data": {
      "text/plain": [
       "86.72"
      ]
     },
     "execution_count": 25,
     "metadata": {},
     "output_type": "execute_result"
    }
   ],
   "source": [
    "evaluate_model(model=model,data_loader=test_loader,device='cpu')"
   ]
  },
  {
   "cell_type": "code",
   "execution_count": null,
   "id": "aea50fec-2192-4e4b-b68a-bd8cc4a9cd58",
   "metadata": {},
   "outputs": [],
   "source": []
  }
 ],
 "metadata": {
  "kernelspec": {
   "display_name": "Python 3 (ipykernel)",
   "language": "python",
   "name": "python3"
  },
  "language_info": {
   "codemirror_mode": {
    "name": "ipython",
    "version": 3
   },
   "file_extension": ".py",
   "mimetype": "text/x-python",
   "name": "python",
   "nbconvert_exporter": "python",
   "pygments_lexer": "ipython3",
   "version": "3.12.3"
  }
 },
 "nbformat": 4,
 "nbformat_minor": 5
}
