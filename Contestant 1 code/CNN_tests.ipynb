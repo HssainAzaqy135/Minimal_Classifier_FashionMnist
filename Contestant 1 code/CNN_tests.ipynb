{
 "cells": [
  {
   "cell_type": "markdown",
   "id": "2744f325-3fb7-4a8f-a6ab-4bb6b1c7a4e0",
   "metadata": {},
   "source": [
    "# CNN tests"
   ]
  },
  {
   "cell_type": "code",
   "execution_count": 1,
   "id": "125e8dc4-d0db-4695-b96b-6111021d07b7",
   "metadata": {},
   "outputs": [],
   "source": [
    "import torch\n",
    "import torch.nn as nn\n",
    "import numpy as np\n",
    "import torch.optim as optim\n",
    "from torchvision import datasets, transforms\n",
    "from torch.utils.data import DataLoader,random_split\n",
    "\n",
    "from classiferNN import CNN,train_model,evaluate_model\n",
    "from utils import compute_mean_std,show_images\n",
    "%load_ext autoreload\n",
    "%autoreload 2"
   ]
  },
  {
   "cell_type": "markdown",
   "id": "3b4c87c7-f644-40db-b43e-0d4979166c2e",
   "metadata": {},
   "source": [
    "* Set Up"
   ]
  },
  {
   "cell_type": "code",
   "execution_count": 2,
   "id": "d7f83a41-277b-4458-81dd-6039da5b6948",
   "metadata": {},
   "outputs": [],
   "source": [
    "def set_seed(seed=42):\n",
    "    torch.manual_seed(seed)\n",
    "    np.random.seed(seed)\n",
    "    if torch.cuda.is_available():\n",
    "        torch.cuda.manual_seed_all(seed)\n",
    "\n",
    "seed=42\n",
    "set_seed(seed)"
   ]
  },
  {
   "cell_type": "code",
   "execution_count": 3,
   "id": "71c8a911-e419-44b7-b7f9-7ab5667b8d85",
   "metadata": {},
   "outputs": [
    {
     "name": "stdout",
     "output_type": "stream",
     "text": [
      "Device used: cpu\n"
     ]
    }
   ],
   "source": [
    "device = 'cpu' #torch.device(\"cuda\" if torch.cuda.is_available() else \"cpu\")\n",
    "num_workers=0\n",
    "pin_memory=False\n",
    "print(f\"Device used: {device}\")"
   ]
  },
  {
   "cell_type": "code",
   "execution_count": 4,
   "id": "652a8186-006e-4dc7-bf99-3ba76eb43e4a",
   "metadata": {},
   "outputs": [],
   "source": [
    "mean= 0.3240 \n",
    "std= 0.3612\n",
    "batch_size = 128\n",
    "transform = transforms.Compose([\n",
    "    transforms.ToTensor(),            # Convert to tensor\n",
    "    transforms.CenterCrop(26),\n",
    "    transforms.Normalize(mean=(mean,),std=(std,)),\n",
    "])\n",
    "\n",
    "train_dataset = datasets.FashionMNIST(root='./data', train=True, download=True, transform=transform)\n",
    "test_dataset = datasets.FashionMNIST(root='./data', train=False, download=True, transform=transform)\n",
    "\n",
    "g = torch.Generator()\n",
    "g.manual_seed(seed)\n",
    "\n",
    "train_loader = DataLoader(train_dataset, batch_size=batch_size, shuffle=True, num_workers=num_workers, pin_memory=pin_memory)\n",
    "test_loader = DataLoader(test_dataset, batch_size=batch_size, shuffle=False,num_workers=num_workers, pin_memory=pin_memory)"
   ]
  },
  {
   "cell_type": "code",
   "execution_count": 5,
   "id": "fba9ab48-cff0-4b65-a47a-4ff2b128f9eb",
   "metadata": {},
   "outputs": [],
   "source": [
    "# Split into train and validation (80/20)\n",
    "train_size = int(0.8 * len(train_dataset))\n",
    "val_size = len(train_dataset) - train_size\n",
    "train_subset, val_subset = random_split(train_dataset, [train_size, val_size], generator=g)\n",
    "\n",
    "# DataLoaders\n",
    "train_loader = DataLoader(train_subset, batch_size=batch_size, shuffle=True,num_workers=num_workers, pin_memory=pin_memory)\n",
    "val_loader = DataLoader(val_subset, batch_size=batch_size, shuffle=False,num_workers=num_workers, pin_memory=pin_memory)"
   ]
  },
  {
   "cell_type": "code",
   "execution_count": 24,
   "id": "387907ba-2f63-4d6f-b461-13e7cdf21229",
   "metadata": {},
   "outputs": [
    {
     "data": {
      "text/plain": [
       "CNN(\n",
       "  (conv): Sequential(\n",
       "    (0): Conv2d(1, 4, kernel_size=(4, 4), stride=(3, 3), padding=(2, 2))\n",
       "    (1): ReLU()\n",
       "    (2): Conv2d(4, 4, kernel_size=(4, 4), stride=(3, 3), padding=(2, 2))\n",
       "    (3): ReLU()\n",
       "    (4): Conv2d(4, 4, kernel_size=(4, 4), stride=(3, 3), padding=(2, 2))\n",
       "    (5): ReLU()\n",
       "  )\n",
       "  (fc): Sequential(\n",
       "    (0): Linear(in_features=16, out_features=16, bias=True)\n",
       "    (1): ReLU()\n",
       "    (2): Linear(in_features=16, out_features=16, bias=True)\n",
       "    (3): ReLU()\n",
       "    (4): Linear(in_features=16, out_features=10, bias=True)\n",
       "  )\n",
       ")"
      ]
     },
     "execution_count": 24,
     "metadata": {},
     "output_type": "execute_result"
    }
   ],
   "source": [
    "model = CNN(dim = 26,conv_channels= [4,4,4],fc_dims=[16,16],kernel_size =4,stride=3,padding=2,max_pooling=False)\n",
    "model"
   ]
  },
  {
   "cell_type": "code",
   "execution_count": 25,
   "id": "ad4f6b02-d50d-4135-a561-f6651a77b183",
   "metadata": {},
   "outputs": [
    {
     "name": "stdout",
     "output_type": "stream",
     "text": [
      "Total trainable parameters: 1302\n"
     ]
    }
   ],
   "source": [
    "model.get_num_params()"
   ]
  },
  {
   "cell_type": "code",
   "execution_count": 26,
   "id": "389877d0-bcc3-4001-8cac-61fcb633b690",
   "metadata": {},
   "outputs": [
    {
     "name": "stdout",
     "output_type": "stream",
     "text": [
      "Epoch 1/20 completed in 12.38s.\n",
      "Epoch 2/20 completed in 12.02s.\n",
      "Epoch 3/20 completed in 13.16s.\n",
      "Epoch 4/20 completed in 13.12s.\n",
      "Epoch 5/20 completed in 14.01s.\n",
      "Validation Accuracy after epoch 5: 80.02%\n",
      "Epoch 6/20 completed in 13.50s.\n",
      "Epoch 7/20 completed in 12.67s.\n",
      "Epoch 8/20 completed in 12.94s.\n",
      "Epoch 9/20 completed in 12.82s.\n",
      "Epoch 10/20 completed in 13.03s.\n",
      "Validation Accuracy after epoch 10: 82.41%\n",
      "Epoch 11/20 completed in 12.13s.\n",
      "Epoch 12/20 completed in 12.82s.\n",
      "Epoch 13/20 completed in 12.57s.\n",
      "Epoch 14/20 completed in 12.95s.\n",
      "Epoch 15/20 completed in 12.93s.\n",
      "Validation Accuracy after epoch 15: 82.95%\n",
      "Epoch 16/20 completed in 12.22s.\n",
      "Epoch 17/20 completed in 12.07s.\n",
      "Epoch 18/20 completed in 12.92s.\n",
      "Epoch 19/20 completed in 12.88s.\n",
      "Epoch 20/20 completed in 12.49s.\n",
      "Validation Accuracy after epoch 20: 83.05%\n"
     ]
    }
   ],
   "source": [
    "criterion = nn.CrossEntropyLoss()\n",
    "optimizer = optim.Adam(model.parameters(), lr=1e-3)\n",
    "epochs=20\n",
    "\n",
    "train_model(model=model,\n",
    "            train_loader=train_loader,\n",
    "            val_loader=val_loader,\n",
    "            optimizer=optimizer,\n",
    "            criterion=criterion,\n",
    "            num_epochs=epochs,\n",
    "            device=device)"
   ]
  },
  {
   "cell_type": "code",
   "execution_count": 27,
   "id": "9d4bda8d-42a7-4e34-b419-ce63f1e42e28",
   "metadata": {},
   "outputs": [
    {
     "data": {
      "text/plain": [
       "83.0"
      ]
     },
     "execution_count": 27,
     "metadata": {},
     "output_type": "execute_result"
    }
   ],
   "source": [
    "evaluate_model(model=model,data_loader=test_loader,device=device)"
   ]
  },
  {
   "cell_type": "code",
   "execution_count": null,
   "id": "f605fda3-38fc-41f5-ad9c-5671471f0d32",
   "metadata": {},
   "outputs": [],
   "source": []
  }
 ],
 "metadata": {
  "kernelspec": {
   "display_name": "Python 3 (ipykernel)",
   "language": "python",
   "name": "python3"
  },
  "language_info": {
   "codemirror_mode": {
    "name": "ipython",
    "version": 3
   },
   "file_extension": ".py",
   "mimetype": "text/x-python",
   "name": "python",
   "nbconvert_exporter": "python",
   "pygments_lexer": "ipython3",
   "version": "3.12.3"
  }
 },
 "nbformat": 4,
 "nbformat_minor": 5
}
